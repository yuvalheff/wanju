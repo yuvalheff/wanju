{
 "cells": [
  {
   "cell_type": "markdown",
   "metadata": {},
   "source": [
    "# Iris Species Classification - Exploratory Data Analysis\n",
    "\n",
    "This notebook performs exploratory data analysis on the Iris dataset to understand the characteristics of the data and inform the machine learning pipeline."
   ]
  },
  {
   "cell_type": "code",
   "execution_count": 1,
   "metadata": {
    "execution": {
     "iopub.execute_input": "2025-09-02T12:44:13.366605Z",
     "iopub.status.busy": "2025-09-02T12:44:13.366510Z",
     "iopub.status.idle": "2025-09-02T12:44:13.862333Z",
     "shell.execute_reply": "2025-09-02T12:44:13.861988Z"
    }
   },
   "outputs": [],
   "source": [
    "import pandas as pd\n",
    "import numpy as np\n",
    "import plotly.express as px\n",
    "import plotly.graph_objects as go\n",
    "from plotly.subplots import make_subplots\n",
    "import json\n",
    "import os"
   ]
  },
  {
   "cell_type": "markdown",
   "metadata": {},
   "source": [
    "## 1. Load Dataset"
   ]
  },
  {
   "cell_type": "code",
   "execution_count": 2,
   "metadata": {
    "execution": {
     "iopub.execute_input": "2025-09-02T12:44:13.864297Z",
     "iopub.status.busy": "2025-09-02T12:44:13.864120Z",
     "iopub.status.idle": "2025-09-02T12:44:13.879768Z",
     "shell.execute_reply": "2025-09-02T12:44:13.879355Z"
    }
   },
   "outputs": [
    {
     "name": "stdout",
     "output_type": "stream",
     "text": [
      "Dataset shape: (120, 6)\n",
      "\n",
      "Dataset info:\n",
      "<class 'pandas.core.frame.DataFrame'>\n",
      "RangeIndex: 120 entries, 0 to 119\n",
      "Data columns (total 6 columns):\n",
      " #   Column         Non-Null Count  Dtype  \n",
      "---  ------         --------------  -----  \n",
      " 0   Id             120 non-null    int64  \n",
      " 1   SepalLengthCm  120 non-null    float64\n",
      " 2   SepalWidthCm   120 non-null    float64\n",
      " 3   PetalLengthCm  120 non-null    float64\n",
      " 4   PetalWidthCm   120 non-null    float64\n",
      " 5   Species        120 non-null    object \n",
      "dtypes: float64(4), int64(1), object(1)\n",
      "memory usage: 5.8+ KB\n",
      "None\n",
      "\n",
      "First few rows:\n"
     ]
    },
    {
     "data": {
      "text/html": [
       "<div>\n",
       "<style scoped>\n",
       "    .dataframe tbody tr th:only-of-type {\n",
       "        vertical-align: middle;\n",
       "    }\n",
       "\n",
       "    .dataframe tbody tr th {\n",
       "        vertical-align: top;\n",
       "    }\n",
       "\n",
       "    .dataframe thead th {\n",
       "        text-align: right;\n",
       "    }\n",
       "</style>\n",
       "<table border=\"1\" class=\"dataframe\">\n",
       "  <thead>\n",
       "    <tr style=\"text-align: right;\">\n",
       "      <th></th>\n",
       "      <th>Id</th>\n",
       "      <th>SepalLengthCm</th>\n",
       "      <th>SepalWidthCm</th>\n",
       "      <th>PetalLengthCm</th>\n",
       "      <th>PetalWidthCm</th>\n",
       "      <th>Species</th>\n",
       "    </tr>\n",
       "  </thead>\n",
       "  <tbody>\n",
       "    <tr>\n",
       "      <th>0</th>\n",
       "      <td>1</td>\n",
       "      <td>4.4</td>\n",
       "      <td>2.9</td>\n",
       "      <td>1.4</td>\n",
       "      <td>0.2</td>\n",
       "      <td>Iris-setosa</td>\n",
       "    </tr>\n",
       "    <tr>\n",
       "      <th>1</th>\n",
       "      <td>2</td>\n",
       "      <td>4.9</td>\n",
       "      <td>2.5</td>\n",
       "      <td>4.5</td>\n",
       "      <td>1.7</td>\n",
       "      <td>Iris-virginica</td>\n",
       "    </tr>\n",
       "    <tr>\n",
       "      <th>2</th>\n",
       "      <td>3</td>\n",
       "      <td>6.8</td>\n",
       "      <td>2.8</td>\n",
       "      <td>4.8</td>\n",
       "      <td>1.4</td>\n",
       "      <td>Iris-versicolor</td>\n",
       "    </tr>\n",
       "    <tr>\n",
       "      <th>3</th>\n",
       "      <td>4</td>\n",
       "      <td>4.9</td>\n",
       "      <td>3.1</td>\n",
       "      <td>1.5</td>\n",
       "      <td>0.1</td>\n",
       "      <td>Iris-setosa</td>\n",
       "    </tr>\n",
       "    <tr>\n",
       "      <th>4</th>\n",
       "      <td>5</td>\n",
       "      <td>5.5</td>\n",
       "      <td>2.5</td>\n",
       "      <td>4.0</td>\n",
       "      <td>1.3</td>\n",
       "      <td>Iris-versicolor</td>\n",
       "    </tr>\n",
       "  </tbody>\n",
       "</table>\n",
       "</div>"
      ],
      "text/plain": [
       "   Id  SepalLengthCm  SepalWidthCm  PetalLengthCm  PetalWidthCm  \\\n",
       "0   1            4.4           2.9            1.4           0.2   \n",
       "1   2            4.9           2.5            4.5           1.7   \n",
       "2   3            6.8           2.8            4.8           1.4   \n",
       "3   4            4.9           3.1            1.5           0.1   \n",
       "4   5            5.5           2.5            4.0           1.3   \n",
       "\n",
       "           Species  \n",
       "0      Iris-setosa  \n",
       "1   Iris-virginica  \n",
       "2  Iris-versicolor  \n",
       "3      Iris-setosa  \n",
       "4  Iris-versicolor  "
      ]
     },
     "execution_count": 2,
     "metadata": {},
     "output_type": "execute_result"
    }
   ],
   "source": [
    "# Load the training dataset\n",
    "df = pd.read_csv('/Users/yuvalheffetz/ds-agent-projects/session_1d6e2cbf-cf62-4b6a-8d6e-39369137016f/data/train_set.csv')\n",
    "print(f\"Dataset shape: {df.shape}\")\n",
    "print(f\"\\nDataset info:\")\n",
    "print(df.info())\n",
    "print(f\"\\nFirst few rows:\")\n",
    "df.head()"
   ]
  },
  {
   "cell_type": "markdown",
   "metadata": {},
   "source": [
    "## 2. Basic Dataset Analysis"
   ]
  },
  {
   "cell_type": "code",
   "execution_count": 3,
   "metadata": {
    "execution": {
     "iopub.execute_input": "2025-09-02T12:44:13.900100Z",
     "iopub.status.busy": "2025-09-02T12:44:13.899977Z",
     "iopub.status.idle": "2025-09-02T12:44:13.907933Z",
     "shell.execute_reply": "2025-09-02T12:44:13.907602Z"
    }
   },
   "outputs": [
    {
     "name": "stdout",
     "output_type": "stream",
     "text": [
      "Target variable distribution:\n",
      "Species\n",
      "Iris-setosa        40\n",
      "Iris-virginica     40\n",
      "Iris-versicolor    40\n",
      "Name: count, dtype: int64\n",
      "\n",
      "Descriptive statistics for numerical features:\n"
     ]
    },
    {
     "data": {
      "text/html": [
       "<div>\n",
       "<style scoped>\n",
       "    .dataframe tbody tr th:only-of-type {\n",
       "        vertical-align: middle;\n",
       "    }\n",
       "\n",
       "    .dataframe tbody tr th {\n",
       "        vertical-align: top;\n",
       "    }\n",
       "\n",
       "    .dataframe thead th {\n",
       "        text-align: right;\n",
       "    }\n",
       "</style>\n",
       "<table border=\"1\" class=\"dataframe\">\n",
       "  <thead>\n",
       "    <tr style=\"text-align: right;\">\n",
       "      <th></th>\n",
       "      <th>Id</th>\n",
       "      <th>SepalLengthCm</th>\n",
       "      <th>SepalWidthCm</th>\n",
       "      <th>PetalLengthCm</th>\n",
       "      <th>PetalWidthCm</th>\n",
       "    </tr>\n",
       "  </thead>\n",
       "  <tbody>\n",
       "    <tr>\n",
       "      <th>count</th>\n",
       "      <td>120.000000</td>\n",
       "      <td>120.000000</td>\n",
       "      <td>120.000000</td>\n",
       "      <td>120.000000</td>\n",
       "      <td>120.000000</td>\n",
       "    </tr>\n",
       "    <tr>\n",
       "      <th>mean</th>\n",
       "      <td>60.500000</td>\n",
       "      <td>5.841667</td>\n",
       "      <td>3.044167</td>\n",
       "      <td>3.770833</td>\n",
       "      <td>1.204167</td>\n",
       "    </tr>\n",
       "    <tr>\n",
       "      <th>std</th>\n",
       "      <td>34.785054</td>\n",
       "      <td>0.840926</td>\n",
       "      <td>0.445669</td>\n",
       "      <td>1.767417</td>\n",
       "      <td>0.763825</td>\n",
       "    </tr>\n",
       "    <tr>\n",
       "      <th>min</th>\n",
       "      <td>1.000000</td>\n",
       "      <td>4.300000</td>\n",
       "      <td>2.000000</td>\n",
       "      <td>1.100000</td>\n",
       "      <td>0.100000</td>\n",
       "    </tr>\n",
       "    <tr>\n",
       "      <th>25%</th>\n",
       "      <td>30.750000</td>\n",
       "      <td>5.100000</td>\n",
       "      <td>2.800000</td>\n",
       "      <td>1.600000</td>\n",
       "      <td>0.300000</td>\n",
       "    </tr>\n",
       "    <tr>\n",
       "      <th>50%</th>\n",
       "      <td>60.500000</td>\n",
       "      <td>5.750000</td>\n",
       "      <td>3.000000</td>\n",
       "      <td>4.250000</td>\n",
       "      <td>1.300000</td>\n",
       "    </tr>\n",
       "    <tr>\n",
       "      <th>75%</th>\n",
       "      <td>90.250000</td>\n",
       "      <td>6.400000</td>\n",
       "      <td>3.300000</td>\n",
       "      <td>5.100000</td>\n",
       "      <td>1.800000</td>\n",
       "    </tr>\n",
       "    <tr>\n",
       "      <th>max</th>\n",
       "      <td>120.000000</td>\n",
       "      <td>7.900000</td>\n",
       "      <td>4.400000</td>\n",
       "      <td>6.900000</td>\n",
       "      <td>2.500000</td>\n",
       "    </tr>\n",
       "  </tbody>\n",
       "</table>\n",
       "</div>"
      ],
      "text/plain": [
       "               Id  SepalLengthCm  SepalWidthCm  PetalLengthCm  PetalWidthCm\n",
       "count  120.000000     120.000000    120.000000     120.000000    120.000000\n",
       "mean    60.500000       5.841667      3.044167       3.770833      1.204167\n",
       "std     34.785054       0.840926      0.445669       1.767417      0.763825\n",
       "min      1.000000       4.300000      2.000000       1.100000      0.100000\n",
       "25%     30.750000       5.100000      2.800000       1.600000      0.300000\n",
       "50%     60.500000       5.750000      3.000000       4.250000      1.300000\n",
       "75%     90.250000       6.400000      3.300000       5.100000      1.800000\n",
       "max    120.000000       7.900000      4.400000       6.900000      2.500000"
      ]
     },
     "execution_count": 3,
     "metadata": {},
     "output_type": "execute_result"
    }
   ],
   "source": [
    "# Examine target variable distribution\n",
    "print(\"Target variable distribution:\")\n",
    "print(df['Species'].value_counts())\n",
    "print(f\"\\nDescriptive statistics for numerical features:\")\n",
    "df.describe()"
   ]
  },
  {
   "cell_type": "markdown",
   "metadata": {},
   "source": [
    "## 3. Feature Distribution Analysis with Interactive Plot"
   ]
  },
  {
   "cell_type": "code",
   "execution_count": 4,
   "metadata": {
    "execution": {
     "iopub.execute_input": "2025-09-02T12:44:13.909403Z",
     "iopub.status.busy": "2025-09-02T12:44:13.909306Z",
     "iopub.status.idle": "2025-09-02T12:44:14.849433Z",
     "shell.execute_reply": "2025-09-02T12:44:14.849150Z"
    }
   },
   "outputs": [
    {
     "data": {
      "application/vnd.plotly.v1+json": {
       "config": {
        "plotlyServerURL": "https://plot.ly"
       },
       "data": [
        {
         "alignmentgroup": "True",
         "hovertemplate": "Species=Iris-setosa<br>Flower Features=%{x}<br>Measurement (cm)=%{y}<extra></extra>",
         "legendgroup": "Iris-setosa",
         "line": {
          "color": "rgba(99, 110, 250, 0.8)"
         },
         "marker": {
          "color": "rgba(99, 110, 250, 0.8)"
         },
         "name": "Iris-setosa",
         "notched": false,
         "offsetgroup": "Iris-setosa",
         "orientation": "v",
         "showlegend": true,
         "type": "box",
         "x": [
          "SepalLengthCm",
          "SepalLengthCm",
          "SepalLengthCm",
          "SepalLengthCm",
          "SepalLengthCm",
          "SepalLengthCm",
          "SepalLengthCm",
          "SepalLengthCm",
          "SepalLengthCm",
          "SepalLengthCm",
          "SepalLengthCm",
          "SepalLengthCm",
          "SepalLengthCm",
          "SepalLengthCm",
          "SepalLengthCm",
          "SepalLengthCm",
          "SepalLengthCm",
          "SepalLengthCm",
          "SepalLengthCm",
          "SepalLengthCm",
          "SepalLengthCm",
          "SepalLengthCm",
          "SepalLengthCm",
          "SepalLengthCm",
          "SepalLengthCm",
          "SepalLengthCm",
          "SepalLengthCm",
          "SepalLengthCm",
          "SepalLengthCm",
          "SepalLengthCm",
          "SepalLengthCm",
          "SepalLengthCm",
          "SepalLengthCm",
          "SepalLengthCm",
          "SepalLengthCm",
          "SepalLengthCm",
          "SepalLengthCm",
          "SepalLengthCm",
          "SepalLengthCm",
          "SepalLengthCm",
          "SepalWidthCm",
          "SepalWidthCm",
          "SepalWidthCm",
          "SepalWidthCm",
          "SepalWidthCm",
          "SepalWidthCm",
          "SepalWidthCm",
          "SepalWidthCm",
          "SepalWidthCm",
          "SepalWidthCm",
          "SepalWidthCm",
          "SepalWidthCm",
          "SepalWidthCm",
          "SepalWidthCm",
          "SepalWidthCm",
          "SepalWidthCm",
          "SepalWidthCm",
          "SepalWidthCm",
          "SepalWidthCm",
          "SepalWidthCm",
          "SepalWidthCm",
          "SepalWidthCm",
          "SepalWidthCm",
          "SepalWidthCm",
          "SepalWidthCm",
          "SepalWidthCm",
          "SepalWidthCm",
          "SepalWidthCm",
          "SepalWidthCm",
          "SepalWidthCm",
          "SepalWidthCm",
          "SepalWidthCm",
          "SepalWidthCm",
          "SepalWidthCm",
          "SepalWidthCm",
          "SepalWidthCm",
          "SepalWidthCm",
          "SepalWidthCm",
          "SepalWidthCm",
          "SepalWidthCm",
          "PetalLengthCm",
          "PetalLengthCm",
          "PetalLengthCm",
          "PetalLengthCm",
          "PetalLengthCm",
          "PetalLengthCm",
          "PetalLengthCm",
          "PetalLengthCm",
          "PetalLengthCm",
          "PetalLengthCm",
          "PetalLengthCm",
          "PetalLengthCm",
          "PetalLengthCm",
          "PetalLengthCm",
          "PetalLengthCm",
          "PetalLengthCm",
          "PetalLengthCm",
          "PetalLengthCm",
          "PetalLengthCm",
          "PetalLengthCm",
          "PetalLengthCm",
          "PetalLengthCm",
          "PetalLengthCm",
          "PetalLengthCm",
          "PetalLengthCm",
          "PetalLengthCm",
          "PetalLengthCm",
          "PetalLengthCm",
          "PetalLengthCm",
          "PetalLengthCm",
          "PetalLengthCm",
          "PetalLengthCm",
          "PetalLengthCm",
          "PetalLengthCm",
          "PetalLengthCm",
          "PetalLengthCm",
          "PetalLengthCm",
          "PetalLengthCm",
          "PetalLengthCm",
          "PetalLengthCm",
          "PetalWidthCm",
          "PetalWidthCm",
          "PetalWidthCm",
          "PetalWidthCm",
          "PetalWidthCm",
          "PetalWidthCm",
          "PetalWidthCm",
          "PetalWidthCm",
          "PetalWidthCm",
          "PetalWidthCm",
          "PetalWidthCm",
          "PetalWidthCm",
          "PetalWidthCm",
          "PetalWidthCm",
          "PetalWidthCm",
          "PetalWidthCm",
          "PetalWidthCm",
          "PetalWidthCm",
          "PetalWidthCm",
          "PetalWidthCm",
          "PetalWidthCm",
          "PetalWidthCm",
          "PetalWidthCm",
          "PetalWidthCm",
          "PetalWidthCm",
          "PetalWidthCm",
          "PetalWidthCm",
          "PetalWidthCm",
          "PetalWidthCm",
          "PetalWidthCm",
          "PetalWidthCm",
          "PetalWidthCm",
          "PetalWidthCm",
          "PetalWidthCm",
          "PetalWidthCm",
          "PetalWidthCm",
          "PetalWidthCm",
          "PetalWidthCm",
          "PetalWidthCm",
          "PetalWidthCm"
         ],
         "x0": " ",
         "xaxis": "x",
         "y": {
          "bdata": "mpmZmZmZEUCamZmZmZkTQM3MzMzMzBJAZmZmZmZmFECamZmZmZkVQGZmZmZmZhRAAAAAAAAAFEAAAAAAAAAUQAAAAAAAABRAZmZmZmZmFEDNzMzMzMwWQGZmZmZmZhJAmpmZmZmZFUCamZmZmZkTQGZmZmZmZhRAAAAAAAAAFEAAAAAAAAASQDMzMzMzMxNAMzMzMzMzE0BmZmZmZmYUQGZmZmZmZhJAAAAAAAAAFkAzMzMzMzMTQGZmZmZmZhRAZmZmZmZmFEAAAAAAAAAUQJqZmZmZmRNAAAAAAAAAFEDNzMzMzMwUQDMzMzMzMxNAZmZmZmZmFEAzMzMzMzMRQJqZmZmZmRVAMzMzMzMzFUDNzMzMzMwUQDMzMzMzMxNAmpmZmZmZE0DNzMzMzMwSQAAAAAAAABZAZmZmZmZmEkAzMzMzMzMHQM3MzMzMzAhAmpmZmZmZCUBmZmZmZmYOQDMzMzMzMwtAZmZmZmZmDkAAAAAAAAAIQDMzMzMzMwtAAAAAAAAADECamZmZmZkNQJqZmZmZmRFAMzMzMzMzC0AzMzMzMzMPQAAAAAAAAAhAAAAAAAAADECamZmZmZkJQGZmZmZmZgJAAAAAAAAACEAAAAAAAAAIQAAAAAAAAAxAmpmZmZmZCUAAAAAAAAAMQDMzMzMzMwtAMzMzMzMzC0BmZmZmZmYKQM3MzMzMzAxAzczMzMzMCEAAAAAAAAAMQGZmZmZmZhBAzczMzMzMCEBmZmZmZmYOQAAAAAAAAAhAMzMzMzMzD0CamZmZmZkNQAAAAAAAAAxAMzMzMzMzC0DNzMzMzMwIQJqZmZmZmQlAzczMzMzMEEDNzMzMzMwIQGZmZmZmZvY/AAAAAAAA+D+amZmZmZn5PwAAAAAAAPg/AAAAAAAA+D+amZmZmZn5P5qZmZmZmfk/mpmZmZmZ+T/NzMzMzMz0PwAAAAAAAPg/AAAAAAAA+D9mZmZmZmb2P83MzMzMzPQ/ZmZmZmZm9j9mZmZmZmb2PzMzMzMzM/M/zczMzMzM9D9mZmZmZmb2P2ZmZmZmZvY/ZmZmZmZm9j9mZmZmZmb2P83MzMzMzPQ/ZmZmZmZm/j8AAAAAAAD4PzMzMzMzM/s/ZmZmZmZm9j8AAAAAAAD4P5qZmZmZmfk/AAAAAAAA+D+amZmZmZn5P2ZmZmZmZv4/mpmZmZmZ8T8zMzMzMzP7PwAAAAAAAPg/AAAAAAAA+D+amZmZmZn5PwAAAAAAAPg/zczMzMzM9D9mZmZmZmb2PwAAAAAAAPg/mpmZmZmZyT+amZmZmZm5P5qZmZmZmck/MzMzMzMz0z+amZmZmZnZP5qZmZmZmck/mpmZmZmZyT+amZmZmZnZPzMzMzMzM9M/mpmZmZmZ2T+amZmZmZnZPzMzMzMzM9M/mpmZmZmZ2T+amZmZmZnJPzMzMzMzM9M/mpmZmZmZyT8zMzMzMzPTP5qZmZmZmbk/MzMzMzMz0z+amZmZmZnJP5qZmZmZmck/mpmZmZmZyT+amZmZmZnJP5qZmZmZmck/AAAAAAAA4D+amZmZmZnJP5qZmZmZmbk/MzMzMzMz4z+amZmZmZm5P5qZmZmZmck/mpmZmZmZ2T+amZmZmZm5P5qZmZmZmdk/mpmZmZmZyT+amZmZmZnJP5qZmZmZmck/mpmZmZmZuT+amZmZmZnJP5qZmZmZmck/mpmZmZmZyT8=",
          "dtype": "f8"
         },
         "y0": " ",
         "yaxis": "y"
        },
        {
         "alignmentgroup": "True",
         "hovertemplate": "Species=Iris-virginica<br>Flower Features=%{x}<br>Measurement (cm)=%{y}<extra></extra>",
         "legendgroup": "Iris-virginica",
         "line": {
          "color": "rgba(239, 85, 59, 0.8)"
         },
         "marker": {
          "color": "rgba(239, 85, 59, 0.8)"
         },
         "name": "Iris-virginica",
         "notched": false,
         "offsetgroup": "Iris-virginica",
         "orientation": "v",
         "showlegend": true,
         "type": "box",
         "x": [
          "SepalLengthCm",
          "SepalLengthCm",
          "SepalLengthCm",
          "SepalLengthCm",
          "SepalLengthCm",
          "SepalLengthCm",
          "SepalLengthCm",
          "SepalLengthCm",
          "SepalLengthCm",
          "SepalLengthCm",
          "SepalLengthCm",
          "SepalLengthCm",
          "SepalLengthCm",
          "SepalLengthCm",
          "SepalLengthCm",
          "SepalLengthCm",
          "SepalLengthCm",
          "SepalLengthCm",
          "SepalLengthCm",
          "SepalLengthCm",
          "SepalLengthCm",
          "SepalLengthCm",
          "SepalLengthCm",
          "SepalLengthCm",
          "SepalLengthCm",
          "SepalLengthCm",
          "SepalLengthCm",
          "SepalLengthCm",
          "SepalLengthCm",
          "SepalLengthCm",
          "SepalLengthCm",
          "SepalLengthCm",
          "SepalLengthCm",
          "SepalLengthCm",
          "SepalLengthCm",
          "SepalLengthCm",
          "SepalLengthCm",
          "SepalLengthCm",
          "SepalLengthCm",
          "SepalLengthCm",
          "SepalWidthCm",
          "SepalWidthCm",
          "SepalWidthCm",
          "SepalWidthCm",
          "SepalWidthCm",
          "SepalWidthCm",
          "SepalWidthCm",
          "SepalWidthCm",
          "SepalWidthCm",
          "SepalWidthCm",
          "SepalWidthCm",
          "SepalWidthCm",
          "SepalWidthCm",
          "SepalWidthCm",
          "SepalWidthCm",
          "SepalWidthCm",
          "SepalWidthCm",
          "SepalWidthCm",
          "SepalWidthCm",
          "SepalWidthCm",
          "SepalWidthCm",
          "SepalWidthCm",
          "SepalWidthCm",
          "SepalWidthCm",
          "SepalWidthCm",
          "SepalWidthCm",
          "SepalWidthCm",
          "SepalWidthCm",
          "SepalWidthCm",
          "SepalWidthCm",
          "SepalWidthCm",
          "SepalWidthCm",
          "SepalWidthCm",
          "SepalWidthCm",
          "SepalWidthCm",
          "SepalWidthCm",
          "SepalWidthCm",
          "SepalWidthCm",
          "SepalWidthCm",
          "SepalWidthCm",
          "PetalLengthCm",
          "PetalLengthCm",
          "PetalLengthCm",
          "PetalLengthCm",
          "PetalLengthCm",
          "PetalLengthCm",
          "PetalLengthCm",
          "PetalLengthCm",
          "PetalLengthCm",
          "PetalLengthCm",
          "PetalLengthCm",
          "PetalLengthCm",
          "PetalLengthCm",
          "PetalLengthCm",
          "PetalLengthCm",
          "PetalLengthCm",
          "PetalLengthCm",
          "PetalLengthCm",
          "PetalLengthCm",
          "PetalLengthCm",
          "PetalLengthCm",
          "PetalLengthCm",
          "PetalLengthCm",
          "PetalLengthCm",
          "PetalLengthCm",
          "PetalLengthCm",
          "PetalLengthCm",
          "PetalLengthCm",
          "PetalLengthCm",
          "PetalLengthCm",
          "PetalLengthCm",
          "PetalLengthCm",
          "PetalLengthCm",
          "PetalLengthCm",
          "PetalLengthCm",
          "PetalLengthCm",
          "PetalLengthCm",
          "PetalLengthCm",
          "PetalLengthCm",
          "PetalLengthCm",
          "PetalWidthCm",
          "PetalWidthCm",
          "PetalWidthCm",
          "PetalWidthCm",
          "PetalWidthCm",
          "PetalWidthCm",
          "PetalWidthCm",
          "PetalWidthCm",
          "PetalWidthCm",
          "PetalWidthCm",
          "PetalWidthCm",
          "PetalWidthCm",
          "PetalWidthCm",
          "PetalWidthCm",
          "PetalWidthCm",
          "PetalWidthCm",
          "PetalWidthCm",
          "PetalWidthCm",
          "PetalWidthCm",
          "PetalWidthCm",
          "PetalWidthCm",
          "PetalWidthCm",
          "PetalWidthCm",
          "PetalWidthCm",
          "PetalWidthCm",
          "PetalWidthCm",
          "PetalWidthCm",
          "PetalWidthCm",
          "PetalWidthCm",
          "PetalWidthCm",
          "PetalWidthCm",
          "PetalWidthCm",
          "PetalWidthCm",
          "PetalWidthCm",
          "PetalWidthCm",
          "PetalWidthCm",
          "PetalWidthCm",
          "PetalWidthCm",
          "PetalWidthCm",
          "PetalWidthCm"
         ],
         "x0": " ",
         "xaxis": "x",
         "y": {
          "bdata": "mpmZmZmZE0AzMzMzMzMZQDMzMzMzMxlAzczMzMzMHkDNzMzMzMweQGZmZmZmZh5AzczMzMzMGkCamZmZmZkZQJqZmZmZmR9AMzMzMzMzGUCamZmZmZkZQGZmZmZmZhZAmpmZmZmZG0DNzMzMzMwYQM3MzMzMzBpAmpmZmZmZHUAzMzMzMzMXQDMzMzMzMxlAmpmZmZmZF0AzMzMzMzMZQDMzMzMzMxdAzczMzMzMFkDNzMzMzMweQJqZmZmZmRlAAAAAAAAAGEDNzMzMzMwcQM3MzMzMzBpAMzMzMzMzGUAzMzMzMzMXQJqZmZmZmRtAzczMzMzMHEAAAAAAAAAaQM3MzMzMzBpAzczMzMzMHkAzMzMzMzMbQM3MzMzMzBhAMzMzMzMzG0DNzMzMzMwcQGZmZmZmZhxAmpmZmZmZGUAAAAAAAAAEQAAAAAAAAARAZmZmZmZmBkAAAAAAAAAIQGZmZmZmZg5AAAAAAAAACEAAAAAAAAAEQM3MzMzMzAhAZmZmZmZmDkAzMzMzMzMHQJqZmZmZmQVAZmZmZmZmBkDNzMzMzMwIQDMzMzMzMwtAZmZmZmZmCkBmZmZmZmYGQJqZmZmZmQVAZmZmZmZmCkAAAAAAAAAIQDMzMzMzMwtAmpmZmZmZBUAAAAAAAAAEQGZmZmZmZgZAmpmZmZmZCUCamZmZmZkBQAAAAAAAAAhAAAAAAAAACECamZmZmZkFQGZmZmZmZgZAmpmZmZmZCUDNzMzMzMwMQJqZmZmZmQlAZmZmZmZmCkDNzMzMzMwEQAAAAAAAAAhAZmZmZmZmBkCamZmZmZkJQJqZmZmZmQlAAAAAAAAACEBmZmZmZmYGQAAAAAAAABJAAAAAAAAAFEBmZmZmZmYUQGZmZmZmZhhAzczMzMzMGkBmZmZmZmYaQDMzMzMzMxdAAAAAAAAAFkCamZmZmZkZQGZmZmZmZhZAMzMzMzMzFUCamZmZmZkTQJqZmZmZmRVAmpmZmZmZFUDNzMzMzMwWQGZmZmZmZhhAZmZmZmZmFEAAAAAAAAAYQGZmZmZmZhRAZmZmZmZmFkBmZmZmZmYUQAAAAAAAABRAzczMzMzMGkAzMzMzMzMVQAAAAAAAABRAMzMzMzMzF0DNzMzMzMwUQJqZmZmZmRNAZmZmZmZmFEDNzMzMzMwWQGZmZmZmZhhAZmZmZmZmFEDNzMzMzMwWQJqZmZmZmRtAAAAAAAAAFkAzMzMzMzMTQJqZmZmZmRdAAAAAAAAAGECamZmZmZkXQGZmZmZmZhZAMzMzMzMz+z9mZmZmZmb+PwAAAAAAAPg/ZmZmZmZmAkCamZmZmZkBQM3MzMzMzABAzczMzMzM/D/NzMzMzMz8PwAAAAAAAABAzczMzMzM/D9mZmZmZmb+PwAAAAAAAABAzczMzMzMAEBmZmZmZmYCQAAAAAAAAARAZmZmZmZm/j9mZmZmZmb+PwAAAAAAAARAzczMzMzM/D8zMzMzMzMDQGZmZmZmZv4/AAAAAAAAAEAAAAAAAAAAQGZmZmZmZgJAAAAAAAAA+D+amZmZmZn5P2ZmZmZmZgJAzczMzMzM/D8zMzMzMzMDQGZmZmZmZgJAAAAAAAAABEAAAAAAAAAAQM3MzMzMzABAZmZmZmZmAkDNzMzMzMwAQM3MzMzMzPw/ZmZmZmZmAkDNzMzMzMz8P83MzMzMzABAzczMzMzMAEA=",
          "dtype": "f8"
         },
         "y0": " ",
         "yaxis": "y"
        },
        {
         "alignmentgroup": "True",
         "hovertemplate": "Species=Iris-versicolor<br>Flower Features=%{x}<br>Measurement (cm)=%{y}<extra></extra>",
         "legendgroup": "Iris-versicolor",
         "line": {
          "color": "rgba(0, 204, 150, 0.8)"
         },
         "marker": {
          "color": "rgba(0, 204, 150, 0.8)"
         },
         "name": "Iris-versicolor",
         "notched": false,
         "offsetgroup": "Iris-versicolor",
         "orientation": "v",
         "showlegend": true,
         "type": "box",
         "x": [
          "SepalLengthCm",
          "SepalLengthCm",
          "SepalLengthCm",
          "SepalLengthCm",
          "SepalLengthCm",
          "SepalLengthCm",
          "SepalLengthCm",
          "SepalLengthCm",
          "SepalLengthCm",
          "SepalLengthCm",
          "SepalLengthCm",
          "SepalLengthCm",
          "SepalLengthCm",
          "SepalLengthCm",
          "SepalLengthCm",
          "SepalLengthCm",
          "SepalLengthCm",
          "SepalLengthCm",
          "SepalLengthCm",
          "SepalLengthCm",
          "SepalLengthCm",
          "SepalLengthCm",
          "SepalLengthCm",
          "SepalLengthCm",
          "SepalLengthCm",
          "SepalLengthCm",
          "SepalLengthCm",
          "SepalLengthCm",
          "SepalLengthCm",
          "SepalLengthCm",
          "SepalLengthCm",
          "SepalLengthCm",
          "SepalLengthCm",
          "SepalLengthCm",
          "SepalLengthCm",
          "SepalLengthCm",
          "SepalLengthCm",
          "SepalLengthCm",
          "SepalLengthCm",
          "SepalLengthCm",
          "SepalWidthCm",
          "SepalWidthCm",
          "SepalWidthCm",
          "SepalWidthCm",
          "SepalWidthCm",
          "SepalWidthCm",
          "SepalWidthCm",
          "SepalWidthCm",
          "SepalWidthCm",
          "SepalWidthCm",
          "SepalWidthCm",
          "SepalWidthCm",
          "SepalWidthCm",
          "SepalWidthCm",
          "SepalWidthCm",
          "SepalWidthCm",
          "SepalWidthCm",
          "SepalWidthCm",
          "SepalWidthCm",
          "SepalWidthCm",
          "SepalWidthCm",
          "SepalWidthCm",
          "SepalWidthCm",
          "SepalWidthCm",
          "SepalWidthCm",
          "SepalWidthCm",
          "SepalWidthCm",
          "SepalWidthCm",
          "SepalWidthCm",
          "SepalWidthCm",
          "SepalWidthCm",
          "SepalWidthCm",
          "SepalWidthCm",
          "SepalWidthCm",
          "SepalWidthCm",
          "SepalWidthCm",
          "SepalWidthCm",
          "SepalWidthCm",
          "SepalWidthCm",
          "SepalWidthCm",
          "PetalLengthCm",
          "PetalLengthCm",
          "PetalLengthCm",
          "PetalLengthCm",
          "PetalLengthCm",
          "PetalLengthCm",
          "PetalLengthCm",
          "PetalLengthCm",
          "PetalLengthCm",
          "PetalLengthCm",
          "PetalLengthCm",
          "PetalLengthCm",
          "PetalLengthCm",
          "PetalLengthCm",
          "PetalLengthCm",
          "PetalLengthCm",
          "PetalLengthCm",
          "PetalLengthCm",
          "PetalLengthCm",
          "PetalLengthCm",
          "PetalLengthCm",
          "PetalLengthCm",
          "PetalLengthCm",
          "PetalLengthCm",
          "PetalLengthCm",
          "PetalLengthCm",
          "PetalLengthCm",
          "PetalLengthCm",
          "PetalLengthCm",
          "PetalLengthCm",
          "PetalLengthCm",
          "PetalLengthCm",
          "PetalLengthCm",
          "PetalLengthCm",
          "PetalLengthCm",
          "PetalLengthCm",
          "PetalLengthCm",
          "PetalLengthCm",
          "PetalLengthCm",
          "PetalLengthCm",
          "PetalWidthCm",
          "PetalWidthCm",
          "PetalWidthCm",
          "PetalWidthCm",
          "PetalWidthCm",
          "PetalWidthCm",
          "PetalWidthCm",
          "PetalWidthCm",
          "PetalWidthCm",
          "PetalWidthCm",
          "PetalWidthCm",
          "PetalWidthCm",
          "PetalWidthCm",
          "PetalWidthCm",
          "PetalWidthCm",
          "PetalWidthCm",
          "PetalWidthCm",
          "PetalWidthCm",
          "PetalWidthCm",
          "PetalWidthCm",
          "PetalWidthCm",
          "PetalWidthCm",
          "PetalWidthCm",
          "PetalWidthCm",
          "PetalWidthCm",
          "PetalWidthCm",
          "PetalWidthCm",
          "PetalWidthCm",
          "PetalWidthCm",
          "PetalWidthCm",
          "PetalWidthCm",
          "PetalWidthCm",
          "PetalWidthCm",
          "PetalWidthCm",
          "PetalWidthCm",
          "PetalWidthCm",
          "PetalWidthCm",
          "PetalWidthCm",
          "PetalWidthCm",
          "PetalWidthCm"
         ],
         "x0": " ",
         "xaxis": "x",
         "y": {
          "bdata": "MzMzMzMzG0AAAAAAAAAWQGZmZmZmZhZAAAAAAAAAGEAAAAAAAAAUQDMzMzMzMxdAMzMzMzMzF0AzMzMzMzMZQAAAAAAAABZAZmZmZmZmGEBmZmZmZmYYQM3MzMzMzBZAzczMzMzMFECamZmZmZkXQAAAAAAAABxAZmZmZmZmFkDNzMzMzMwWQM3MzMzMzBZAAAAAAAAAFkAAAAAAAAAYQAAAAAAAABZAZmZmZmZmFkAAAAAAAAAaQDMzMzMzMxdAAAAAAAAAFkAAAAAAAAAYQM3MzMzMzBhAZmZmZmZmFEDNzMzMzMwaQM3MzMzMzBhAMzMzMzMzGUDNzMzMzMwWQJqZmZmZmRlAZmZmZmZmGEDNzMzMzMwWQGZmZmZmZhZAzczMzMzMGkAAAAAAAAAYQJqZmZmZmRdAmpmZmZmZG0BmZmZmZmYGQAAAAAAAAARAmpmZmZmZBUAzMzMzMzMHQAAAAAAAAABAmpmZmZmZBUDNzMzMzMwEQAAAAAAAAARAMzMzMzMzA0BmZmZmZmYGQAAAAAAAAAhAzczMzMzMBECamZmZmZkFQJqZmZmZmQlAmpmZmZmZCUAzMzMzMzMHQGZmZmZmZgZAZmZmZmZmBkBmZmZmZmYCQJqZmZmZmQVAzczMzMzMBEAAAAAAAAAIQGZmZmZmZgZAmpmZmZmZBUAzMzMzMzMDQDMzMzMzMwtAmpmZmZmZAUAAAAAAAAAEQM3MzMzMzAhAMzMzMzMzB0BmZmZmZmYCQDMzMzMzMwdAMzMzMzMzB0BmZmZmZmYGQAAAAAAAAAhAAAAAAAAACEDNzMzMzMwIQJqZmZmZmQFAAAAAAAAACEDNzMzMzMwIQDMzMzMzMxNAAAAAAAAAEEDNzMzMzMwQQAAAAAAAABJAAAAAAAAADEBmZmZmZmYQQAAAAAAAABBAmpmZmZmZE0CamZmZmZkNQAAAAAAAABBAZmZmZmZmEkAAAAAAAAAMQDMzMzMzMw9AMzMzMzMzE0DNzMzMzMwSQM3MzMzMzAxAAAAAAAAAEkBmZmZmZmYQQAAAAAAAABBAZmZmZmZmFECamZmZmZkRQAAAAAAAABJAZmZmZmZmEkAzMzMzMzMPQGZmZmZmZg5AAAAAAAAAEkAAAAAAAAASQAAAAAAAAAhAzczMzMzMEkAzMzMzMzMRQJqZmZmZmRFAzczMzMzMEEAzMzMzMzMRQM3MzMzMzBJAzczMzMzMEEBmZmZmZmYQQJqZmZmZmRFAAAAAAAAAEEDNzMzMzMwQQJqZmZmZmRNAZmZmZmZm9j/NzMzMzMz0P83MzMzMzPQ/AAAAAAAA+D8AAAAAAADwPwAAAAAAAPA/MzMzMzMz8z8AAAAAAAD4PwAAAAAAAPA/zczMzMzM9D9mZmZmZmb2PwAAAAAAAPA/ZmZmZmZm9j/NzMzMzMz8P2ZmZmZmZvY/zczMzMzM9D/NzMzMzMz0P83MzMzMzPQ/zczMzMzM9D+amZmZmZn5PzMzMzMzM/M/AAAAAAAA+D8AAAAAAAD4PzMzMzMzM/M/mpmZmZmZ8T+amZmZmZn5PwAAAAAAAPg/mpmZmZmZ8T8AAAAAAAD4P83MzMzMzPQ/zczMzMzM9D/NzMzMzMz0P83MzMzMzPQ/MzMzMzMz8z8zMzMzMzPzP83MzMzMzPQ/ZmZmZmZm9j8AAAAAAADwPwAAAAAAAPg/AAAAAAAA+D8=",
          "dtype": "f8"
         },
         "y0": " ",
         "yaxis": "y"
        }
       ],
       "layout": {
        "boxmode": "group",
        "font": {
         "color": "#8B5CF6",
         "size": 12
        },
        "height": 600,
        "legend": {
         "font": {
          "color": "#8B5CF6",
          "size": 11
         },
         "title": {
          "text": "Species"
         },
         "tracegroupgap": 0
        },
        "margin": {
         "t": 60
        },
        "paper_bgcolor": "rgba(0,0,0,0)",
        "plot_bgcolor": "rgba(0,0,0,0)",
        "template": {
         "data": {
          "bar": [
           {
            "error_x": {
             "color": "#2a3f5f"
            },
            "error_y": {
             "color": "#2a3f5f"
            },
            "marker": {
             "line": {
              "color": "#E5ECF6",
              "width": 0.5
             },
             "pattern": {
              "fillmode": "overlay",
              "size": 10,
              "solidity": 0.2
             }
            },
            "type": "bar"
           }
          ],
          "barpolar": [
           {
            "marker": {
             "line": {
              "color": "#E5ECF6",
              "width": 0.5
             },
             "pattern": {
              "fillmode": "overlay",
              "size": 10,
              "solidity": 0.2
             }
            },
            "type": "barpolar"
           }
          ],
          "carpet": [
           {
            "aaxis": {
             "endlinecolor": "#2a3f5f",
             "gridcolor": "white",
             "linecolor": "white",
             "minorgridcolor": "white",
             "startlinecolor": "#2a3f5f"
            },
            "baxis": {
             "endlinecolor": "#2a3f5f",
             "gridcolor": "white",
             "linecolor": "white",
             "minorgridcolor": "white",
             "startlinecolor": "#2a3f5f"
            },
            "type": "carpet"
           }
          ],
          "choropleth": [
           {
            "colorbar": {
             "outlinewidth": 0,
             "ticks": ""
            },
            "type": "choropleth"
           }
          ],
          "contour": [
           {
            "colorbar": {
             "outlinewidth": 0,
             "ticks": ""
            },
            "colorscale": [
             [
              0.0,
              "#0d0887"
             ],
             [
              0.1111111111111111,
              "#46039f"
             ],
             [
              0.2222222222222222,
              "#7201a8"
             ],
             [
              0.3333333333333333,
              "#9c179e"
             ],
             [
              0.4444444444444444,
              "#bd3786"
             ],
             [
              0.5555555555555556,
              "#d8576b"
             ],
             [
              0.6666666666666666,
              "#ed7953"
             ],
             [
              0.7777777777777778,
              "#fb9f3a"
             ],
             [
              0.8888888888888888,
              "#fdca26"
             ],
             [
              1.0,
              "#f0f921"
             ]
            ],
            "type": "contour"
           }
          ],
          "contourcarpet": [
           {
            "colorbar": {
             "outlinewidth": 0,
             "ticks": ""
            },
            "type": "contourcarpet"
           }
          ],
          "heatmap": [
           {
            "colorbar": {
             "outlinewidth": 0,
             "ticks": ""
            },
            "colorscale": [
             [
              0.0,
              "#0d0887"
             ],
             [
              0.1111111111111111,
              "#46039f"
             ],
             [
              0.2222222222222222,
              "#7201a8"
             ],
             [
              0.3333333333333333,
              "#9c179e"
             ],
             [
              0.4444444444444444,
              "#bd3786"
             ],
             [
              0.5555555555555556,
              "#d8576b"
             ],
             [
              0.6666666666666666,
              "#ed7953"
             ],
             [
              0.7777777777777778,
              "#fb9f3a"
             ],
             [
              0.8888888888888888,
              "#fdca26"
             ],
             [
              1.0,
              "#f0f921"
             ]
            ],
            "type": "heatmap"
           }
          ],
          "histogram": [
           {
            "marker": {
             "pattern": {
              "fillmode": "overlay",
              "size": 10,
              "solidity": 0.2
             }
            },
            "type": "histogram"
           }
          ],
          "histogram2d": [
           {
            "colorbar": {
             "outlinewidth": 0,
             "ticks": ""
            },
            "colorscale": [
             [
              0.0,
              "#0d0887"
             ],
             [
              0.1111111111111111,
              "#46039f"
             ],
             [
              0.2222222222222222,
              "#7201a8"
             ],
             [
              0.3333333333333333,
              "#9c179e"
             ],
             [
              0.4444444444444444,
              "#bd3786"
             ],
             [
              0.5555555555555556,
              "#d8576b"
             ],
             [
              0.6666666666666666,
              "#ed7953"
             ],
             [
              0.7777777777777778,
              "#fb9f3a"
             ],
             [
              0.8888888888888888,
              "#fdca26"
             ],
             [
              1.0,
              "#f0f921"
             ]
            ],
            "type": "histogram2d"
           }
          ],
          "histogram2dcontour": [
           {
            "colorbar": {
             "outlinewidth": 0,
             "ticks": ""
            },
            "colorscale": [
             [
              0.0,
              "#0d0887"
             ],
             [
              0.1111111111111111,
              "#46039f"
             ],
             [
              0.2222222222222222,
              "#7201a8"
             ],
             [
              0.3333333333333333,
              "#9c179e"
             ],
             [
              0.4444444444444444,
              "#bd3786"
             ],
             [
              0.5555555555555556,
              "#d8576b"
             ],
             [
              0.6666666666666666,
              "#ed7953"
             ],
             [
              0.7777777777777778,
              "#fb9f3a"
             ],
             [
              0.8888888888888888,
              "#fdca26"
             ],
             [
              1.0,
              "#f0f921"
             ]
            ],
            "type": "histogram2dcontour"
           }
          ],
          "mesh3d": [
           {
            "colorbar": {
             "outlinewidth": 0,
             "ticks": ""
            },
            "type": "mesh3d"
           }
          ],
          "parcoords": [
           {
            "line": {
             "colorbar": {
              "outlinewidth": 0,
              "ticks": ""
             }
            },
            "type": "parcoords"
           }
          ],
          "pie": [
           {
            "automargin": true,
            "type": "pie"
           }
          ],
          "scatter": [
           {
            "fillpattern": {
             "fillmode": "overlay",
             "size": 10,
             "solidity": 0.2
            },
            "type": "scatter"
           }
          ],
          "scatter3d": [
           {
            "line": {
             "colorbar": {
              "outlinewidth": 0,
              "ticks": ""
             }
            },
            "marker": {
             "colorbar": {
              "outlinewidth": 0,
              "ticks": ""
             }
            },
            "type": "scatter3d"
           }
          ],
          "scattercarpet": [
           {
            "marker": {
             "colorbar": {
              "outlinewidth": 0,
              "ticks": ""
             }
            },
            "type": "scattercarpet"
           }
          ],
          "scattergeo": [
           {
            "marker": {
             "colorbar": {
              "outlinewidth": 0,
              "ticks": ""
             }
            },
            "type": "scattergeo"
           }
          ],
          "scattergl": [
           {
            "marker": {
             "colorbar": {
              "outlinewidth": 0,
              "ticks": ""
             }
            },
            "type": "scattergl"
           }
          ],
          "scattermap": [
           {
            "marker": {
             "colorbar": {
              "outlinewidth": 0,
              "ticks": ""
             }
            },
            "type": "scattermap"
           }
          ],
          "scattermapbox": [
           {
            "marker": {
             "colorbar": {
              "outlinewidth": 0,
              "ticks": ""
             }
            },
            "type": "scattermapbox"
           }
          ],
          "scatterpolar": [
           {
            "marker": {
             "colorbar": {
              "outlinewidth": 0,
              "ticks": ""
             }
            },
            "type": "scatterpolar"
           }
          ],
          "scatterpolargl": [
           {
            "marker": {
             "colorbar": {
              "outlinewidth": 0,
              "ticks": ""
             }
            },
            "type": "scatterpolargl"
           }
          ],
          "scatterternary": [
           {
            "marker": {
             "colorbar": {
              "outlinewidth": 0,
              "ticks": ""
             }
            },
            "type": "scatterternary"
           }
          ],
          "surface": [
           {
            "colorbar": {
             "outlinewidth": 0,
             "ticks": ""
            },
            "colorscale": [
             [
              0.0,
              "#0d0887"
             ],
             [
              0.1111111111111111,
              "#46039f"
             ],
             [
              0.2222222222222222,
              "#7201a8"
             ],
             [
              0.3333333333333333,
              "#9c179e"
             ],
             [
              0.4444444444444444,
              "#bd3786"
             ],
             [
              0.5555555555555556,
              "#d8576b"
             ],
             [
              0.6666666666666666,
              "#ed7953"
             ],
             [
              0.7777777777777778,
              "#fb9f3a"
             ],
             [
              0.8888888888888888,
              "#fdca26"
             ],
             [
              1.0,
              "#f0f921"
             ]
            ],
            "type": "surface"
           }
          ],
          "table": [
           {
            "cells": {
             "fill": {
              "color": "#EBF0F8"
             },
             "line": {
              "color": "white"
             }
            },
            "header": {
             "fill": {
              "color": "#C8D4E3"
             },
             "line": {
              "color": "white"
             }
            },
            "type": "table"
           }
          ]
         },
         "layout": {
          "annotationdefaults": {
           "arrowcolor": "#2a3f5f",
           "arrowhead": 0,
           "arrowwidth": 1
          },
          "autotypenumbers": "strict",
          "coloraxis": {
           "colorbar": {
            "outlinewidth": 0,
            "ticks": ""
           }
          },
          "colorscale": {
           "diverging": [
            [
             0,
             "#8e0152"
            ],
            [
             0.1,
             "#c51b7d"
            ],
            [
             0.2,
             "#de77ae"
            ],
            [
             0.3,
             "#f1b6da"
            ],
            [
             0.4,
             "#fde0ef"
            ],
            [
             0.5,
             "#f7f7f7"
            ],
            [
             0.6,
             "#e6f5d0"
            ],
            [
             0.7,
             "#b8e186"
            ],
            [
             0.8,
             "#7fbc41"
            ],
            [
             0.9,
             "#4d9221"
            ],
            [
             1,
             "#276419"
            ]
           ],
           "sequential": [
            [
             0.0,
             "#0d0887"
            ],
            [
             0.1111111111111111,
             "#46039f"
            ],
            [
             0.2222222222222222,
             "#7201a8"
            ],
            [
             0.3333333333333333,
             "#9c179e"
            ],
            [
             0.4444444444444444,
             "#bd3786"
            ],
            [
             0.5555555555555556,
             "#d8576b"
            ],
            [
             0.6666666666666666,
             "#ed7953"
            ],
            [
             0.7777777777777778,
             "#fb9f3a"
            ],
            [
             0.8888888888888888,
             "#fdca26"
            ],
            [
             1.0,
             "#f0f921"
            ]
           ],
           "sequentialminus": [
            [
             0.0,
             "#0d0887"
            ],
            [
             0.1111111111111111,
             "#46039f"
            ],
            [
             0.2222222222222222,
             "#7201a8"
            ],
            [
             0.3333333333333333,
             "#9c179e"
            ],
            [
             0.4444444444444444,
             "#bd3786"
            ],
            [
             0.5555555555555556,
             "#d8576b"
            ],
            [
             0.6666666666666666,
             "#ed7953"
            ],
            [
             0.7777777777777778,
             "#fb9f3a"
            ],
            [
             0.8888888888888888,
             "#fdca26"
            ],
            [
             1.0,
             "#f0f921"
            ]
           ]
          },
          "colorway": [
           "#636efa",
           "#EF553B",
           "#00cc96",
           "#ab63fa",
           "#FFA15A",
           "#19d3f3",
           "#FF6692",
           "#B6E880",
           "#FF97FF",
           "#FECB52"
          ],
          "font": {
           "color": "#2a3f5f"
          },
          "geo": {
           "bgcolor": "white",
           "lakecolor": "white",
           "landcolor": "#E5ECF6",
           "showlakes": true,
           "showland": true,
           "subunitcolor": "white"
          },
          "hoverlabel": {
           "align": "left"
          },
          "hovermode": "closest",
          "mapbox": {
           "style": "light"
          },
          "paper_bgcolor": "white",
          "plot_bgcolor": "#E5ECF6",
          "polar": {
           "angularaxis": {
            "gridcolor": "white",
            "linecolor": "white",
            "ticks": ""
           },
           "bgcolor": "#E5ECF6",
           "radialaxis": {
            "gridcolor": "white",
            "linecolor": "white",
            "ticks": ""
           }
          },
          "scene": {
           "xaxis": {
            "backgroundcolor": "#E5ECF6",
            "gridcolor": "white",
            "gridwidth": 2,
            "linecolor": "white",
            "showbackground": true,
            "ticks": "",
            "zerolinecolor": "white"
           },
           "yaxis": {
            "backgroundcolor": "#E5ECF6",
            "gridcolor": "white",
            "gridwidth": 2,
            "linecolor": "white",
            "showbackground": true,
            "ticks": "",
            "zerolinecolor": "white"
           },
           "zaxis": {
            "backgroundcolor": "#E5ECF6",
            "gridcolor": "white",
            "gridwidth": 2,
            "linecolor": "white",
            "showbackground": true,
            "ticks": "",
            "zerolinecolor": "white"
           }
          },
          "shapedefaults": {
           "line": {
            "color": "#2a3f5f"
           }
          },
          "ternary": {
           "aaxis": {
            "gridcolor": "white",
            "linecolor": "white",
            "ticks": ""
           },
           "baxis": {
            "gridcolor": "white",
            "linecolor": "white",
            "ticks": ""
           },
           "bgcolor": "#E5ECF6",
           "caxis": {
            "gridcolor": "white",
            "linecolor": "white",
            "ticks": ""
           }
          },
          "title": {
           "x": 0.05
          },
          "xaxis": {
           "automargin": true,
           "gridcolor": "white",
           "linecolor": "white",
           "ticks": "",
           "title": {
            "standoff": 15
           },
           "zerolinecolor": "white",
           "zerolinewidth": 2
          },
          "yaxis": {
           "automargin": true,
           "gridcolor": "white",
           "linecolor": "white",
           "ticks": "",
           "title": {
            "standoff": 15
           },
           "zerolinecolor": "white",
           "zerolinewidth": 2
          }
         }
        },
        "title": {
         "font": {
          "color": "#7C3AED",
          "size": 16
         }
        },
        "xaxis": {
         "anchor": "y",
         "domain": [
          0.0,
          1.0
         ],
         "gridcolor": "rgba(139,92,246,0.2)",
         "tickfont": {
          "color": "#8B5CF6",
          "size": 11
         },
         "title": {
          "font": {
           "color": "#7C3AED",
           "size": 12
          },
          "text": "Flower Features"
         },
         "zerolinecolor": "rgba(139,92,246,0.3)"
        },
        "yaxis": {
         "anchor": "x",
         "domain": [
          0.0,
          1.0
         ],
         "gridcolor": "rgba(139,92,246,0.2)",
         "tickfont": {
          "color": "#8B5CF6",
          "size": 11
         },
         "title": {
          "font": {
           "color": "#7C3AED",
           "size": 12
          },
          "text": "Measurement (cm)"
         },
         "zerolinecolor": "rgba(139,92,246,0.3)"
        }
       }
      }
     },
     "metadata": {},
     "output_type": "display_data"
    }
   ],
   "source": [
    "# Create feature distribution plot using box plots\n",
    "feature_cols = ['SepalLengthCm', 'SepalWidthCm', 'PetalLengthCm', 'PetalWidthCm']\n",
    "\n",
    "# Melt the dataframe for easier plotting\n",
    "df_melted = df.melt(id_vars=['Species'], value_vars=feature_cols, \n",
    "                    var_name='Feature', value_name='Value')\n",
    "\n",
    "# Create interactive box plot\n",
    "fig = px.box(df_melted, x='Feature', y='Value', color='Species',\n",
    "             labels={'Value': 'Measurement (cm)', 'Feature': 'Flower Features'})\n",
    "\n",
    "# Apply consistent color palette\n",
    "app_color_palette = [\n",
    "    'rgba(99, 110, 250, 0.8)',   # Blue\n",
    "    'rgba(239, 85, 59, 0.8)',    # Red/Orange-Red\n",
    "    'rgba(0, 204, 150, 0.8)',    # Green\n",
    "    'rgba(171, 99, 250, 0.8)',   # Purple\n",
    "    'rgba(255, 161, 90, 0.8)',   # Orange\n",
    "    'rgba(25, 211, 243, 0.8)',   # Cyan\n",
    "    'rgba(255, 102, 146, 0.8)',  # Pink\n",
    "    'rgba(182, 232, 128, 0.8)',  # Light Green\n",
    "    'rgba(255, 151, 255, 0.8)',  # Magenta\n",
    "    'rgba(254, 203, 82, 0.8)'    # Yellow\n",
    "]\n",
    "\n",
    "# Update layout with app styling\n",
    "fig.update_layout(\n",
    "    height=600,\n",
    "    paper_bgcolor='rgba(0,0,0,0)',  # Transparent background\n",
    "    plot_bgcolor='rgba(0,0,0,0)',   # Transparent plot area\n",
    "    font=dict(color='#8B5CF6', size=12),  # App's purple color for text\n",
    "    title_font=dict(color='#7C3AED', size=16),  # Slightly darker purple for titles\n",
    "    xaxis=dict(\n",
    "        gridcolor='rgba(139,92,246,0.2)',  # Purple-tinted grid\n",
    "        zerolinecolor='rgba(139,92,246,0.3)',\n",
    "        tickfont=dict(color='#8B5CF6', size=11),  # Purple tick labels\n",
    "        title_font=dict(color='#7C3AED', size=12)  # Darker purple axis titles\n",
    "    ),\n",
    "    yaxis=dict(\n",
    "        gridcolor='rgba(139,92,246,0.2)',  # Purple-tinted grid\n",
    "        zerolinecolor='rgba(139,92,246,0.3)', \n",
    "        tickfont=dict(color='#8B5CF6', size=11),  # Purple tick labels\n",
    "        title_font=dict(color='#7C3AED', size=12)  # Darker purple axis titles\n",
    "    ),\n",
    "    legend=dict(font=dict(color='#8B5CF6', size=11))  # Purple legend\n",
    ")\n",
    "\n",
    "# Update colors\n",
    "for i, trace in enumerate(fig.data):\n",
    "    trace.marker.color = app_color_palette[i % len(app_color_palette)]\n",
    "    trace.line.color = app_color_palette[i % len(app_color_palette)]\n",
    "\n",
    "# Create plots directory if it doesn't exist\n",
    "os.makedirs('/Users/yuvalheffetz/ds-agent-projects/session_1d6e2cbf-cf62-4b6a-8d6e-39369137016f/research/plots', exist_ok=True)\n",
    "\n",
    "# Save the plot\n",
    "fig.write_html('/Users/yuvalheffetz/ds-agent-projects/session_1d6e2cbf-cf62-4b6a-8d6e-39369137016f/research/plots/feature_distribution_by_species.html', \n",
    "               include_plotlyjs=True, config={'responsive': True, 'displayModeBar': False})\n",
    "\n",
    "fig.show()"
   ]
  },
  {
   "cell_type": "markdown",
   "metadata": {},
   "source": [
    "## 4. Key Findings Summary"
   ]
  },
  {
   "cell_type": "code",
   "execution_count": 5,
   "metadata": {
    "execution": {
     "iopub.execute_input": "2025-09-02T12:44:14.851725Z",
     "iopub.status.busy": "2025-09-02T12:44:14.851627Z",
     "iopub.status.idle": "2025-09-02T12:44:14.856354Z",
     "shell.execute_reply": "2025-09-02T12:44:14.856095Z"
    }
   },
   "outputs": [
    {
     "name": "stdout",
     "output_type": "stream",
     "text": [
      "Key findings:\n",
      "1. Dataset contains 120 samples with 5 features (excluding ID column)\n",
      "2. Perfect class balance: {'Iris-setosa': 40, 'Iris-virginica': 40, 'Iris-versicolor': 40}\n",
      "3. No missing values detected\n",
      "4. All features are numerical with different scales:\n",
      "   - SepalLengthCm: 4.3 - 7.9 cm\n",
      "   - SepalWidthCm: 2.0 - 4.4 cm\n",
      "   - PetalLengthCm: 1.1 - 6.9 cm\n",
      "   - PetalWidthCm: 0.1 - 2.5 cm\n",
      "\n",
      "5. Feature separability analysis:\n",
      "   - SepalLengthCm: 1.62 cm difference between species means\n",
      "   - SepalWidthCm: 0.65 cm difference between species means\n",
      "   - PetalLengthCm: 4.10 cm difference between species means\n",
      "   - PetalWidthCm: 1.79 cm difference between species means\n"
     ]
    }
   ],
   "source": [
    "# Calculate some key statistics for insights\n",
    "print(\"Key findings:\")\n",
    "print(f\"1. Dataset contains {df.shape[0]} samples with {df.shape[1]-1} features (excluding ID column)\")\n",
    "print(f\"2. Perfect class balance: {df['Species'].value_counts().to_dict()}\")\n",
    "print(f\"3. No missing values detected\")\n",
    "print(f\"4. All features are numerical with different scales:\")\n",
    "for col in feature_cols:\n",
    "    print(f\"   - {col}: {df[col].min():.1f} - {df[col].max():.1f} cm\")\n",
    "\n",
    "# Analyze feature separability\n",
    "print(f\"\\n5. Feature separability analysis:\")\n",
    "for col in feature_cols:\n",
    "    species_means = df.groupby('Species')[col].mean()\n",
    "    range_diff = species_means.max() - species_means.min()\n",
    "    print(f\"   - {col}: {range_diff:.2f} cm difference between species means\")"
   ]
  }
 ],
 "metadata": {
  "kernelspec": {
   "display_name": "Python 3",
   "language": "python",
   "name": "python3"
  },
  "language_info": {
   "codemirror_mode": {
    "name": "ipython",
    "version": 3
   },
   "file_extension": ".py",
   "mimetype": "text/x-python",
   "name": "python",
   "nbconvert_exporter": "python",
   "pygments_lexer": "ipython3",
   "version": "3.12.11"
  }
 },
 "nbformat": 4,
 "nbformat_minor": 4
}
